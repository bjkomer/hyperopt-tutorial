{
 "cells": [
  {
   "cell_type": "markdown",
   "metadata": {},
   "source": [
    "## Example showing the use of hyperopt-sklearn on the MNIST digits dataset"
   ]
  },
  {
   "cell_type": "code",
   "execution_count": 1,
   "metadata": {
    "collapsed": false
   },
   "outputs": [
    {
     "name": "stdout",
     "output_type": "stream",
     "text": [
      "WARN: OMP_NUM_THREADS=None =>\n",
      "... If you are using openblas if you are using openblas set OMP_NUM_THREADS=1 or risk subprocess calls hanging indefinitely\n"
     ]
    }
   ],
   "source": [
    "from hpsklearn import HyperoptEstimator, any_classifier\n",
    "from sklearn.datasets import fetch_mldata\n",
    "from hyperopt import tpe\n",
    "import numpy as np"
   ]
  },
  {
   "cell_type": "code",
   "execution_count": 2,
   "metadata": {
    "collapsed": true
   },
   "outputs": [],
   "source": [
    "# Fetch dataset\n",
    "digits = fetch_mldata('MNIST original')\n",
    "\n",
    "X = digits.data\n",
    "y = digits.target\n",
    "\n",
    "# Split into training and testing sets\n",
    "test_size = int( 0.2 * len( y ) )\n",
    "np.random.seed( 13 )\n",
    "indices = np.random.permutation(len(X))\n",
    "X_train = X[ indices[:-test_size]]\n",
    "y_train = y[ indices[:-test_size]]\n",
    "X_test = X[ indices[-test_size:]]\n",
    "y_test = y[ indices[-test_size:]]"
   ]
  },
  {
   "cell_type": "code",
   "execution_count": 6,
   "metadata": {
    "collapsed": true
   },
   "outputs": [],
   "source": [
    "# Create the hyperopt estimator object. Allow any classifier to be used and run the TPE search algorithm.\n",
    "# A timeout is useful to set if you have time constraints. It defaults to None if not set.\n",
    "# The timeout is for a particular evaluation. The maximum total training time is max_evals * trial_timeout seconds\n",
    "# Some algorithms cannot normally be stopped early and will report a fail.\n",
    "# Some algorithms that normally keep running until convergence are gracefully stopped by hyperopt-sklearn and return a result.\n",
    "estim = HyperoptEstimator( classifier=any_classifier('clf'),  \n",
    "                           algo=tpe.suggest, max_evals=10, trial_timeout=120)"
   ]
  },
  {
   "cell_type": "code",
   "execution_count": 7,
   "metadata": {
    "collapsed": false
   },
   "outputs": [
    {
     "name": "stderr",
     "output_type": "stream",
     "text": [
      "/home/bjkomer/hyperoot/src/scikit-learn/sklearn/utils/validation.py:428: DataConversionWarning: Data with input dtype uint8 was converted to float64 by the normalize function.\n",
      "  warnings.warn(msg, _DataConversionWarning)\n",
      "/home/bjkomer/hyperoot/src/scikit-learn/sklearn/utils/validation.py:428: DataConversionWarning: Data with input dtype uint8 was converted to float64 by StandardScaler.\n",
      "  warnings.warn(msg, _DataConversionWarning)\n",
      "/home/bjkomer/hyperoot/src/scikit-learn/sklearn/utils/validation.py:428: DataConversionWarning: Data with input dtype uint8 was converted to float64 by MinMaxScaler.\n",
      "  warnings.warn(msg, _DataConversionWarning)\n",
      "/home/bjkomer/hyperoot/src/scikit-learn/sklearn/utils/validation.py:428: DataConversionWarning: Data with input dtype uint8 was converted to float64 by StandardScaler.\n",
      "  warnings.warn(msg, _DataConversionWarning)\n",
      "/home/bjkomer/hyperoot/src/scikit-learn/sklearn/utils/validation.py:428: DataConversionWarning: Data with input dtype uint8 was converted to float64 by the normalize function.\n",
      "  warnings.warn(msg, _DataConversionWarning)\n",
      "/home/bjkomer/hyperoot/src/scikit-learn/sklearn/utils/validation.py:428: DataConversionWarning: Data with input dtype uint8 was converted to float64 by MinMaxScaler.\n",
      "  warnings.warn(msg, _DataConversionWarning)\n",
      "/home/bjkomer/hyperoot/src/scikit-learn/sklearn/utils/validation.py:428: DataConversionWarning: Data with input dtype uint8 was converted to float64 by MinMaxScaler.\n",
      "  warnings.warn(msg, _DataConversionWarning)\n",
      "/home/bjkomer/hyperoot/src/scikit-learn/sklearn/utils/validation.py:428: DataConversionWarning: Data with input dtype uint8 was converted to float64 by MinMaxScaler.\n",
      "  warnings.warn(msg, _DataConversionWarning)\n",
      "/home/bjkomer/hyperoot/src/scikit-learn/sklearn/utils/validation.py:428: DataConversionWarning: Data with input dtype uint8 was converted to float64 by MinMaxScaler.\n",
      "  warnings.warn(msg, _DataConversionWarning)\n",
      "/home/bjkomer/hyperoot/src/scikit-learn/sklearn/utils/extmath.py:368: UserWarning: The number of power iterations is increased to 7 to achieve higher precision.\n",
      "  warnings.warn(\"The number of power iterations is increased to \"\n",
      "/home/bjkomer/hyperoot/src/scikit-learn/sklearn/utils/extmath.py:368: UserWarning: The number of power iterations is increased to 7 to achieve higher precision.\n",
      "  warnings.warn(\"The number of power iterations is increased to \"\n"
     ]
    }
   ],
   "source": [
    "# Search the space of classifiers and parameters to find a good setting\n",
    "estim.fit( X_train, y_train )"
   ]
  },
  {
   "cell_type": "code",
   "execution_count": 8,
   "metadata": {
    "collapsed": false
   },
   "outputs": [
    {
     "name": "stdout",
     "output_type": "stream",
     "text": [
      "0.952428571429\n",
      "{'classifier': KNeighborsClassifier(algorithm='auto', leaf_size=10, metric='euclidean',\n",
      "           metric_params=None, n_jobs=1, n_neighbors=36, p=2,\n",
      "           weights='uniform'), 'preprocs': (PCA(copy=True, iterated_power=4, n_components=44, random_state=None,\n",
      "  svd_solver='auto', tol=0.0, whiten=True),)}\n"
     ]
    }
   ],
   "source": [
    "print( estim.score( X_test, y_test ) )\n",
    "print( estim.best_model() )"
   ]
  },
  {
   "cell_type": "code",
   "execution_count": null,
   "metadata": {
    "collapsed": true
   },
   "outputs": [],
   "source": []
  }
 ],
 "metadata": {
  "kernelspec": {
   "display_name": "Python 2",
   "language": "python",
   "name": "python2"
  },
  "language_info": {
   "codemirror_mode": {
    "name": "ipython",
    "version": 2
   },
   "file_extension": ".py",
   "mimetype": "text/x-python",
   "name": "python",
   "nbconvert_exporter": "python",
   "pygments_lexer": "ipython2",
   "version": "2.7.6"
  }
 },
 "nbformat": 4,
 "nbformat_minor": 0
}
