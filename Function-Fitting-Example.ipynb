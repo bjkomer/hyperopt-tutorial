{
 "cells": [
  {
   "cell_type": "code",
   "execution_count": 98,
   "metadata": {
    "collapsed": false
   },
   "outputs": [],
   "source": [
    "%matplotlib inline\n",
    "\n",
    "import matplotlib\n",
    "import matplotlib.pyplot as plt\n",
    "from hyperopt import fmin, tpe, hp, Trials, STATUS_OK\n",
    "import numpy as np\n",
    "import seaborn as sns\n",
    "\n",
    "# Generate set of data points from a sinusoid\n",
    "num_points = 20\n",
    "domain_min = 0\n",
    "domain_max = 10\n",
    "\n",
    "x = np.linspace(domain_min, domain_max, num_points)\n",
    "data = 1.5*np.sin(1*x + 1) + 2\n",
    "\n",
    "# add noise to the data\n",
    "data += np.random.normal(0, .2, num_points)"
   ]
  },
  {
   "cell_type": "code",
   "execution_count": 99,
   "metadata": {
    "collapsed": false
   },
   "outputs": [
    {
     "data": {
      "text/plain": [
       "<matplotlib.collections.PathCollection at 0x7f26077ffe10>"
      ]
     },
     "execution_count": 99,
     "metadata": {},
     "output_type": "execute_result"
    },
    {
     "data": {
      "image/png": "[encoded data removed]",
      "text/plain": [
       "<matplotlib.figure.Figure at 0x7f2607c04e50>"
      ]
     },
     "metadata": {},
     "output_type": "display_data"
    }
   ],
   "source": [
    "# Plot the data\n",
    "plt.scatter(x, data)"
   ]
  },
  {
   "cell_type": "code",
   "execution_count": 100,
   "metadata": {
    "collapsed": false
   },
   "outputs": [],
   "source": [
    "# Define possible functions to fit\n",
    "def sinusoid(domain, amplitude, frequency, offset, phase):\n",
    "    return amplitude * np.sin(frequency*domain + phase) + offset\n",
    "\n",
    "def polynomial(domain, coefficients):\n",
    "\n",
    "    result = np.zeros(len(domain))\n",
    "    for p, c in enumerate(coefficients):\n",
    "        result += c*domain**p\n",
    "        \n",
    "    return result"
   ]
  },
  {
   "cell_type": "code",
   "execution_count": 101,
   "metadata": {
    "collapsed": false
   },
   "outputs": [],
   "source": [
    "# Define the objective function\n",
    "def objective(args):\n",
    "    \n",
    "    if args['type'] == 'sinusoid':\n",
    "        estimate = sinusoid(x, args['amplitude'], args['frequency'], args['offset'], args['phase'])\n",
    "    elif args['type'] == 'polynomial':\n",
    "        estimate = polynomial(x, args['coefficients'])\n",
    "    \n",
    "    # sum of squared error\n",
    "    loss = np.sum(np.square(data - estimate))\n",
    "    \n",
    "    return {'loss': loss, 'status': STATUS_OK}"
   ]
  },
  {
   "cell_type": "code",
   "execution_count": 102,
   "metadata": {
    "collapsed": true
   },
   "outputs": [],
   "source": [
    "# Define the search space\n",
    "space = hp.choice('function', [\n",
    "        {'type':'sinusoid',\n",
    "         'amplitude':hp.uniform('amplitude', 0.1, 2),\n",
    "         'frequency':hp.uniform('frequency', 0.1, 2),\n",
    "         'offset':hp.normal('offset', 0, 2),\n",
    "         'phase':hp.normal('phase', 0, 2),\n",
    "        },\n",
    "        {'type':'polynomial',\n",
    "         'coefficients':hp.choice('degree', [\n",
    "                    [hp.normal('d0.c0', 0, 20)],\n",
    "                    [hp.normal('d1.c0', 0, 20), hp.normal('d1.c1', 0, 20)],\n",
    "                    [hp.normal('d2.c0', 0, 20), hp.normal('d2.c1', 0, 20), hp.normal('d2.c2', 0, 20)],\n",
    "                    [hp.normal('d3.c0', 0, 20), hp.normal('d3.c1', 0, 20), hp.normal('d3.c2', 0, 20), hp.normal('d3.c3', 0, 20)],\n",
    "                ]),\n",
    "\n",
    "        },\n",
    "    ])"
   ]
  },
  {
   "cell_type": "code",
   "execution_count": 103,
   "metadata": {
    "collapsed": false
   },
   "outputs": [],
   "source": [
    "# Create a Trials object to store results of each evaluation\n",
    "trials = Trials()\n",
    "\n",
    "# Run the search for the specified number of evaluations\n",
    "best = fmin(objective,\n",
    "            space=space,\n",
    "            algo=tpe.suggest,\n",
    "            trials=trials,\n",
    "            max_evals=1000)"
   ]
  },
  {
   "cell_type": "code",
   "execution_count": 104,
   "metadata": {
    "collapsed": false
   },
   "outputs": [
    {
     "name": "stdout",
     "output_type": "stream",
     "text": [
      "{'function': 0, 'phase': 1.009388536005037, 'frequency': 0.99341722427070178, 'amplitude': 1.393686038123459, 'offset': 1.9122835899444073}\n"
     ]
    },
    {
     "data": {
      "text/plain": [
       "<matplotlib.collections.PathCollection at 0x7f26056d7b90>"
      ]
     },
     "execution_count": 104,
     "metadata": {},
     "output_type": "execute_result"
    },
    {
     "data": {
      "image/png": "[encoded data removed]",
      "text/plain": [
       "<matplotlib.figure.Figure at 0x7f2607b7f910>"
      ]
     },
     "metadata": {},
     "output_type": "display_data"
    }
   ],
   "source": [
    "# Plot the fit found\n",
    "print(best)\n",
    "if best['function'] == 0:\n",
    "    estimate = sinusoid(x, best['amplitude'], best['frequency'], best['offset'], best['phase'])\n",
    "elif best['function'] == 1:\n",
    "    deg = best['degree']\n",
    "    coef = [best['d%s.c%s' % (deg, i)] for i in range(deg+1)]\n",
    "    estimate = polynomial(x, coef)\n",
    "plt.scatter(x,data,color='blue')\n",
    "plt.scatter(x,estimate,color='red')"
   ]
  },
  {
   "cell_type": "code",
   "execution_count": null,
   "metadata": {
    "collapsed": true
   },
   "outputs": [],
   "source": []
  }
 ],
 "metadata": {
  "kernelspec": {
   "display_name": "Python 2",
   "language": "python",
   "name": "python2"
  },
  "language_info": {
   "codemirror_mode": {
    "name": "ipython",
    "version": 2
   },
   "file_extension": ".py",
   "mimetype": "text/x-python",
   "name": "python",
   "nbconvert_exporter": "python",
   "pygments_lexer": "ipython2",
   "version": "2.7.6"
  }
 },
 "nbformat": 4,
 "nbformat_minor": 0
}
