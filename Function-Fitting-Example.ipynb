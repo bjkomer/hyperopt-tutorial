{
 "cells": [
  {
   "cell_type": "markdown",
   "metadata": {},
   "source": [
    "## Example showing the use of a nested parameter space"
   ]
  },
  {
   "cell_type": "code",
   "execution_count": 1,
   "metadata": {
    "collapsed": false
   },
   "outputs": [],
   "source": [
    "%matplotlib inline\n",
    "\n",
    "import matplotlib\n",
    "import matplotlib.pyplot as plt\n",
    "from hyperopt import fmin, tpe, hp, Trials, STATUS_OK\n",
    "import numpy as np\n",
    "import seaborn as sns\n",
    "\n",
    "# Generate set of data points from a sinusoid\n",
    "num_points = 20\n",
    "domain_min = 0\n",
    "domain_max = 10\n",
    "\n",
    "x = np.linspace(domain_min, domain_max, num_points)\n",
    "data = 1.5*np.sin(1*x + 1) + 2\n",
    "\n",
    "# Add noise to the data\n",
    "data += np.random.normal(0, .2, num_points)"
   ]
  },
  {
   "cell_type": "code",
   "execution_count": 2,
   "metadata": {
    "collapsed": false
   },
   "outputs": [
    {
     "data": {
      "text/plain": [
       "<matplotlib.collections.PathCollection at 0x7f3ca5881c50>"
      ]
     },
     "execution_count": 2,
     "metadata": {},
     "output_type": "execute_result"
    },
    {
     "data": {
      "image/png": "[encoded data removed]",
      "text/plain": [
       "<matplotlib.figure.Figure at 0x7f3cf869a610>"
      ]
     },
     "metadata": {},
     "output_type": "display_data"
    }
   ],
   "source": [
    "# Plot the data\n",
    "plt.scatter(x, data)"
   ]
  },
  {
   "cell_type": "code",
   "execution_count": 3,
   "metadata": {
    "collapsed": false
   },
   "outputs": [],
   "source": [
    "# Define possible functions to fit\n",
    "def sinusoid(domain, amplitude, frequency, offset, phase):\n",
    "    return amplitude * np.sin(frequency*domain + phase) + offset\n",
    "\n",
    "def polynomial(domain, coefficients):\n",
    "\n",
    "    result = np.zeros(len(domain))\n",
    "    for p, c in enumerate(coefficients):\n",
    "        result += c*domain**p\n",
    "        \n",
    "    return result"
   ]
  },
  {
   "cell_type": "code",
   "execution_count": 4,
   "metadata": {
    "collapsed": false
   },
   "outputs": [],
   "source": [
    "# Define the objective function\n",
    "def objective(args):\n",
    "    \n",
    "    if args['type'] == 'sinusoid':\n",
    "        estimate = sinusoid(x, args['amplitude'], args['frequency'], args['offset'], args['phase'])\n",
    "    elif args['type'] == 'polynomial':\n",
    "        estimate = polynomial(x, args['coefficients'])\n",
    "    \n",
    "    # sum of squared error\n",
    "    loss = np.sum(np.square(data - estimate))\n",
    "    \n",
    "    return {'loss': loss, 'status': STATUS_OK}"
   ]
  },
  {
   "cell_type": "code",
   "execution_count": 5,
   "metadata": {
    "collapsed": true
   },
   "outputs": [],
   "source": [
    "# Define the search space\n",
    "space = hp.choice('function', [\n",
    "        {'type':'sinusoid',\n",
    "         'amplitude':hp.uniform('amplitude', 0.1, 2),\n",
    "         'frequency':hp.uniform('frequency', 0.1, 2),\n",
    "         'offset':hp.normal('offset', 0, 2),\n",
    "         'phase':hp.normal('phase', 0, 2),\n",
    "        },\n",
    "        {'type':'polynomial',\n",
    "         'coefficients':hp.choice('degree', [\n",
    "                    [hp.normal('d0.c0', 0, 5)],\n",
    "                    [hp.normal('d1.c0', 0, 5), hp.normal('d1.c1', 0, 5)],\n",
    "                    [hp.normal('d2.c0', 0, 5), hp.normal('d2.c1', 0, 5), hp.normal('d2.c2', 0, 5)],\n",
    "                    [hp.normal('d3.c0', 0, 5), hp.normal('d3.c1', 0, 5), hp.normal('d3.c2', 0, 5), hp.normal('d3.c3', 0, 1)],\n",
    "                ]),\n",
    "\n",
    "        },\n",
    "    ])"
   ]
  },
  {
   "cell_type": "code",
   "execution_count": 6,
   "metadata": {
    "collapsed": false
   },
   "outputs": [],
   "source": [
    "# Create a Trials object to store results of each evaluation\n",
    "trials = Trials()\n",
    "\n",
    "# Run the search for the specified number of evaluations\n",
    "best = fmin(objective,\n",
    "            space=space,\n",
    "            algo=tpe.suggest,\n",
    "            trials=trials,\n",
    "            max_evals=1000)"
   ]
  },
  {
   "cell_type": "code",
   "execution_count": 7,
   "metadata": {
    "collapsed": false
   },
   "outputs": [
    {
     "name": "stdout",
     "output_type": "stream",
     "text": [
      "{'function': 1, 'd0.c0': 2.0531433664967542, 'degree': 0}\n"
     ]
    },
    {
     "data": {
      "text/plain": [
       "<matplotlib.collections.PathCollection at 0x7f3ca7b5dc90>"
      ]
     },
     "execution_count": 7,
     "metadata": {},
     "output_type": "execute_result"
    },
    {
     "data": {
      "image/png": "[encoded data removed]",
      "text/plain": [
       "<matplotlib.figure.Figure at 0x7f3ca7b5dd10>"
      ]
     },
     "metadata": {},
     "output_type": "display_data"
    }
   ],
   "source": [
    "# Plot the fit found\n",
    "print(best)\n",
    "if best['function'] == 0:\n",
    "    estimate = sinusoid(x, best['amplitude'], best['frequency'], best['offset'], best['phase'])\n",
    "elif best['function'] == 1:\n",
    "    deg = best['degree']\n",
    "    coef = [best['d%s.c%s' % (deg, i)] for i in range(deg+1)]\n",
    "    estimate = polynomial(x, coef)\n",
    "plt.scatter(x,data,color='blue')\n",
    "plt.scatter(x,estimate,color='red')"
   ]
  },
  {
   "cell_type": "code",
   "execution_count": 8,
   "metadata": {
    "collapsed": false
   },
   "outputs": [
    {
     "name": "stdout",
     "output_type": "stream",
     "text": [
      "Number of sinusoid evaluations: 119\n",
      "Number of polynomial evaluations: 881\n"
     ]
    }
   ],
   "source": [
    "# Look at how many evaluations are done for each function\n",
    "num_sinusoid = 0\n",
    "num_polynomial = 0\n",
    "for trial in trials.trials:\n",
    "    if trial['misc']['vals']['function'][0] == 0:\n",
    "        num_sinusoid += 1\n",
    "    elif trial['misc']['vals']['function'][0] == 1:\n",
    "        num_polynomial +=1\n",
    "        \n",
    "print(\"Number of sinusoid evaluations: %s\" % num_sinusoid)\n",
    "print(\"Number of polynomial evaluations: %s\" % num_polynomial)"
   ]
  },
  {
   "cell_type": "markdown",
   "metadata": {},
   "source": [
    "## Lets see what happens if we use rand instead of tpe"
   ]
  },
  {
   "cell_type": "code",
   "execution_count": 9,
   "metadata": {
    "collapsed": true
   },
   "outputs": [],
   "source": [
    "from hyperopt import rand\n",
    "\n",
    "# Create a Trials object to store results of each evaluation\n",
    "rand_trials = Trials()\n",
    "\n",
    "# Run the search for the specified number of evaluations\n",
    "rand_best = fmin(objective,\n",
    "                 space=space,\n",
    "                 algo=rand.suggest,\n",
    "                 trials=rand_trials,\n",
    "                 max_evals=1000)"
   ]
  },
  {
   "cell_type": "code",
   "execution_count": 10,
   "metadata": {
    "collapsed": false
   },
   "outputs": [
    {
     "name": "stdout",
     "output_type": "stream",
     "text": [
      "{'function': 0, 'phase': 0.92409108422000164, 'frequency': 1.1222702596761258, 'amplitude': 1.6366969934634625, 'offset': 2.2836871247455677}\n"
     ]
    },
    {
     "data": {
      "text/plain": [
       "<matplotlib.collections.PathCollection at 0x7f3ca58eea90>"
      ]
     },
     "execution_count": 10,
     "metadata": {},
     "output_type": "execute_result"
    },
    {
     "data": {
      "image/png": "[encoded data removed]",
      "text/plain": [
       "<matplotlib.figure.Figure at 0x7f3ca53f3390>"
      ]
     },
     "metadata": {},
     "output_type": "display_data"
    }
   ],
   "source": [
    "# Plot the fit found\n",
    "print(rand_best)\n",
    "if rand_best['function'] == 0:\n",
    "    rand_estimate = sinusoid(x, rand_best['amplitude'], rand_best['frequency'], rand_best['offset'], rand_best['phase'])\n",
    "elif rand_best['function'] == 1:\n",
    "    deg = rand_best['degree']\n",
    "    coef = [rand_best['d%s.c%s' % (deg, i)] for i in range(deg+1)]\n",
    "    rand_estimate = polynomial(x, coef)\n",
    "plt.scatter(x,data,color='blue')\n",
    "plt.scatter(x,rand_estimate,color='red')"
   ]
  },
  {
   "cell_type": "code",
   "execution_count": 11,
   "metadata": {
    "collapsed": false
   },
   "outputs": [
    {
     "name": "stdout",
     "output_type": "stream",
     "text": [
      "Number of sinusoid evaluations: 470\n",
      "Number of polynomial evaluations: 530\n"
     ]
    }
   ],
   "source": [
    "# Look at how many evaluations are done for each function\n",
    "rand_num_sinusoid = 0\n",
    "rand_num_polynomial = 0\n",
    "for trial in rand_trials.trials:\n",
    "    if trial['misc']['vals']['function'][0] == 0:\n",
    "        rand_num_sinusoid += 1\n",
    "    elif trial['misc']['vals']['function'][0] == 1:\n",
    "        rand_num_polynomial +=1\n",
    "        \n",
    "print(\"Number of sinusoid evaluations: %s\" % rand_num_sinusoid)\n",
    "print(\"Number of polynomial evaluations: %s\" % rand_num_polynomial)"
   ]
  }
 ],
 "metadata": {
  "kernelspec": {
   "display_name": "Python 2",
   "language": "python",
   "name": "python2"
  },
  "language_info": {
   "codemirror_mode": {
    "name": "ipython",
    "version": 2
   },
   "file_extension": ".py",
   "mimetype": "text/x-python",
   "name": "python",
   "nbconvert_exporter": "python",
   "pygments_lexer": "ipython2",
   "version": "2.7.6"
  }
 },
 "nbformat": 4,
 "nbformat_minor": 0
}
